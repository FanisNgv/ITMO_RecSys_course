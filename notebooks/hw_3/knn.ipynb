{
  "cells": [
    {
      "cell_type": "markdown",
      "id": "df183879-3cc9-4598-8111-6f9aab4c0e9a",
      "metadata": {
        "deletable": false,
        "editable": false,
        "id": "df183879-3cc9-4598-8111-6f9aab4c0e9a",
        "nbgrader": {
          "cell_type": "markdown",
          "checksum": "b7692a7e5bb026164c9067b95bffe9b5",
          "grade": false,
          "grade_id": "cell-8619aa6f1d11d3e0",
          "locked": true,
          "schema_version": 3,
          "solution": false,
          "task": false
        }
      },
      "source": [
        "# Домашнее задание №3. Вариант рекомендательной системы с knn"
      ]
    },
    {
      "cell_type": "code",
      "execution_count": 1,
      "id": "86de5ff6-ae70-4882-8c2c-671bd4e36e1f",
      "metadata": {
        "deletable": false,
        "editable": false,
        "id": "86de5ff6-ae70-4882-8c2c-671bd4e36e1f",
        "nbgrader": {
          "cell_type": "code",
          "checksum": "18d7b581eb400309d98dd7948a118d2d",
          "grade": false,
          "grade_id": "cell-6520937952d69a16",
          "locked": true,
          "schema_version": 3,
          "solution": false,
          "task": false
        }
      },
      "outputs": [
        {
          "name": "stderr",
          "output_type": "stream",
          "text": [
            "c:\\Users\\Nigamadyanov\\anaconda3\\envs\\dl_env\\Lib\\site-packages\\tqdm\\auto.py:21: TqdmWarning: IProgress not found. Please update jupyter and ipywidgets. See https://ipywidgets.readthedocs.io/en/stable/user_install.html\n",
            "  from .autonotebook import tqdm as notebook_tqdm\n"
          ]
        }
      ],
      "source": [
        "from collections import Counter\n",
        "from typing import Union\n",
        "\n",
        "import implicit\n",
        "import rectools\n",
        "import requests\n",
        "import scipy as sp\n",
        "import numpy as np\n",
        "import pandas as pd\n",
        "from rectools import Columns\n",
        "from rectools.metrics import MAP, MeanInvUserFreq\n",
        "from rectools.dataset import Dataset\n",
        "from scipy.sparse import coo_matrix, spmatrix\n",
        "from implicit.nearest_neighbours import ItemItemRecommender\n",
        "\n",
        "import os\n",
        "import os.path"
      ]
    },
    {
      "cell_type": "code",
      "execution_count": 9,
      "id": "aee71783",
      "metadata": {},
      "outputs": [],
      "source": [
        "data_path = os.environ.get(\"DATA_PATH\")"
      ]
    },
    {
      "cell_type": "code",
      "execution_count": 3,
      "id": "8710b1c2-947f-4ea7-be09-2fbd1298013b",
      "metadata": {
        "colab": {
          "base_uri": "https://localhost:8080/"
        },
        "deletable": false,
        "editable": false,
        "id": "8710b1c2-947f-4ea7-be09-2fbd1298013b",
        "nbgrader": {
          "cell_type": "code",
          "checksum": "8060d70b17d75f3e5d6a280a0d259932",
          "grade": false,
          "grade_id": "cell-93a83ccdf573ad30",
          "locked": true,
          "schema_version": 3,
          "solution": false,
          "task": false
        },
        "outputId": "2d72896c-09e0-4242-d6d1-5569a2023b97"
      },
      "outputs": [
        {
          "name": "stdout",
          "output_type": "stream",
          "text": [
            "implicit: 0.7.2\n",
            "requests: 2.32.3\n",
            "rectools: 0.12.0\n",
            "pandas: 2.2.3\n",
            "numpy: 1.26.4\n",
            "scipy: 1.12.0\n"
          ]
        }
      ],
      "source": [
        "print(\"implicit:\", implicit.__version__)\n",
        "print(\"requests:\", requests.__version__)\n",
        "print(\"rectools:\", rectools.__version__)\n",
        "print(\"pandas:\", pd.__version__)\n",
        "print(\"numpy:\", np.__version__)\n",
        "print(\"scipy:\", sp.__version__)"
      ]
    },
    {
      "cell_type": "code",
      "execution_count": 90,
      "id": "f5f7b564-5a54-42d7-9b07-bccc45500901",
      "metadata": {
        "colab": {
          "base_uri": "https://localhost:8080/"
        },
        "deletable": false,
        "editable": false,
        "id": "f5f7b564-5a54-42d7-9b07-bccc45500901",
        "nbgrader": {
          "cell_type": "code",
          "checksum": "d272e710e58f586ab01a6334cfa56bd1",
          "grade": false,
          "grade_id": "cell-9ff78718038dcc04",
          "locked": true,
          "schema_version": 3,
          "solution": false,
          "task": false
        },
        "outputId": "044686e3-f890-40a2-bbf9-9074d9ce505d"
      },
      "outputs": [
        {
          "name": "stdout",
          "output_type": "stream",
          "text": [
            "Archive:  kion_train.zip\n",
            "  inflating: data_original/interactions.csv  \n",
            "  inflating: data_original/users.csv  \n",
            "  inflating: data_original/items.csv  \n",
            "CPU times: user 53.6 ms, sys: 5.14 ms, total: 58.8 ms\n",
            "Wall time: 5.63 s\n"
          ]
        }
      ],
      "source": [
        "%%time\n",
        "\n",
        "!wget -q https://github.com/irsafilo/KION_DATASET/raw/f69775be31fa5779907cf0a92ddedb70037fb5ae/data_original.zip -O kion_train.zip\n",
        "!unzip -o kion_train.zip -x '__MACOSX/*'\n",
        "!rm kion_train.zip"
      ]
    },
    {
      "cell_type": "code",
      "execution_count": 10,
      "id": "13208a43",
      "metadata": {},
      "outputs": [],
      "source": [
        "if data_path is None:\n",
        "    data_path = \"C:/Users/Nigamadyanov/Downloads/data_original/\""
      ]
    },
    {
      "cell_type": "code",
      "execution_count": 11,
      "id": "c964a927-5d4f-431e-88a7-38ff6370796d",
      "metadata": {
        "colab": {
          "base_uri": "https://localhost:8080/",
          "height": 224
        },
        "deletable": false,
        "editable": false,
        "id": "c964a927-5d4f-431e-88a7-38ff6370796d",
        "nbgrader": {
          "cell_type": "code",
          "checksum": "38070451d403c16bbdefb3e84c7814fd",
          "grade": false,
          "grade_id": "cell-b42aa4e57bf28d60",
          "locked": true,
          "schema_version": 3,
          "solution": false,
          "task": false
        },
        "outputId": "da0e5c30-07b7-4e7b-a0fd-f500eb203c92"
      },
      "outputs": [
        {
          "name": "stdout",
          "output_type": "stream",
          "text": [
            "(5476251, 5)\n"
          ]
        },
        {
          "data": {
            "text/html": [
              "<div>\n",
              "<style scoped>\n",
              "    .dataframe tbody tr th:only-of-type {\n",
              "        vertical-align: middle;\n",
              "    }\n",
              "\n",
              "    .dataframe tbody tr th {\n",
              "        vertical-align: top;\n",
              "    }\n",
              "\n",
              "    .dataframe thead th {\n",
              "        text-align: right;\n",
              "    }\n",
              "</style>\n",
              "<table border=\"1\" class=\"dataframe\">\n",
              "  <thead>\n",
              "    <tr style=\"text-align: right;\">\n",
              "      <th></th>\n",
              "      <th>user_id</th>\n",
              "      <th>item_id</th>\n",
              "      <th>datetime</th>\n",
              "      <th>weight</th>\n",
              "      <th>watched_pct</th>\n",
              "    </tr>\n",
              "  </thead>\n",
              "  <tbody>\n",
              "    <tr>\n",
              "      <th>0</th>\n",
              "      <td>176549</td>\n",
              "      <td>9506</td>\n",
              "      <td>2021-05-11</td>\n",
              "      <td>4250</td>\n",
              "      <td>72.0</td>\n",
              "    </tr>\n",
              "    <tr>\n",
              "      <th>1</th>\n",
              "      <td>699317</td>\n",
              "      <td>1659</td>\n",
              "      <td>2021-05-29</td>\n",
              "      <td>8317</td>\n",
              "      <td>100.0</td>\n",
              "    </tr>\n",
              "    <tr>\n",
              "      <th>2</th>\n",
              "      <td>656683</td>\n",
              "      <td>7107</td>\n",
              "      <td>2021-05-09</td>\n",
              "      <td>10</td>\n",
              "      <td>0.0</td>\n",
              "    </tr>\n",
              "    <tr>\n",
              "      <th>3</th>\n",
              "      <td>864613</td>\n",
              "      <td>7638</td>\n",
              "      <td>2021-07-05</td>\n",
              "      <td>14483</td>\n",
              "      <td>100.0</td>\n",
              "    </tr>\n",
              "    <tr>\n",
              "      <th>4</th>\n",
              "      <td>964868</td>\n",
              "      <td>9506</td>\n",
              "      <td>2021-04-30</td>\n",
              "      <td>6725</td>\n",
              "      <td>100.0</td>\n",
              "    </tr>\n",
              "  </tbody>\n",
              "</table>\n",
              "</div>"
            ],
            "text/plain": [
              "   user_id  item_id   datetime  weight  watched_pct\n",
              "0   176549     9506 2021-05-11    4250         72.0\n",
              "1   699317     1659 2021-05-29    8317        100.0\n",
              "2   656683     7107 2021-05-09      10          0.0\n",
              "3   864613     7638 2021-07-05   14483        100.0\n",
              "4   964868     9506 2021-04-30    6725        100.0"
            ]
          },
          "execution_count": 11,
          "metadata": {},
          "output_type": "execute_result"
        }
      ],
      "source": [
        "interactions = (\n",
        "    pd.read_csv(os.path.join(data_path, \"interactions.csv\"), parse_dates=[\"last_watch_dt\"])\n",
        "    .rename(columns={'total_dur': Columns.Weight,\n",
        "                     'last_watch_dt': Columns.Datetime})\n",
        ")\n",
        "users = pd.read_csv(os.path.join(data_path, \"users.csv\"))\n",
        "items = pd.read_csv(os.path.join(data_path, \"items.csv\"))\n",
        "\n",
        "print(interactions.shape)\n",
        "interactions.head(5)"
      ]
    },
    {
      "cell_type": "markdown",
      "id": "6e79119c-f196-4899-b0b9-54e0af3af38e",
      "metadata": {
        "deletable": false,
        "editable": false,
        "id": "6e79119c-f196-4899-b0b9-54e0af3af38e",
        "nbgrader": {
          "cell_type": "markdown",
          "checksum": "82ca913cf02af8f599ef185d1c8cfac7",
          "grade": false,
          "grade_id": "cell-52b23c87b1866217",
          "locked": true,
          "schema_version": 3,
          "solution": false,
          "task": false
        }
      },
      "source": [
        "# Ситуация:\n",
        "\n",
        "Ваш коллега ушел в отпуск, оставив вам недописанную модель в `userknn.py` (код из семинара №3 будет в ячейке этого ноутбука далее)\n",
        "\n",
        "Через 3 дня ее нужно выкатить в А/B тест. Это значит, что модель должна уметь выдавать рекомендации размера `k` любым пользователям (холодным / горячим).\n",
        "\n",
        "Требуется дописать методы класса UserKnn:\n",
        "\n",
        "- метод, который выдает рекомендации холодным пользователям (сейчас модель этого не умеет)\n",
        "- в методе, который выдает рекомендации горячим пользователям, дописать код так, чтобы у всех было одинаковое кол-во рекомендаций k, а не меньше k, как сейчас.\n",
        "\n",
        "Также была договоренность, что перед выкаткой вы покажете продакт менеджеру финальные значения по оффлайн метрикам."
      ]
    },
    {
      "cell_type": "markdown",
      "id": "303d4c04-3785-484b-9f5b-069cb6e4636e",
      "metadata": {
        "deletable": false,
        "editable": false,
        "id": "303d4c04-3785-484b-9f5b-069cb6e4636e",
        "nbgrader": {
          "cell_type": "markdown",
          "checksum": "149d469a22e2152cb2322351916f60ea",
          "grade": false,
          "grade_id": "cell-b654fb723ac79668",
          "locked": true,
          "schema_version": 3,
          "solution": false,
          "task": false
        }
      },
      "source": [
        "# Готовим тестовую выборку\n",
        "\n",
        "Здесь и далее жестко фиксируем тестовую выборку **ровно последние 14 дней из `interactions`**  - по результатам на ней будут выставляться баллы\n",
        "\n",
        "Сохраните тестовую выборку (тестовые interactions) в pandas DataFrame и назовите его `test`.\n",
        "\n",
        "Оставьте в нем все поля из `interactions`. Удостоверьтесь, что формат полей следующий:\n",
        "\n",
        "    Column   Dtype         \n",
        " - user_id -    int64         \n",
        " - item_id -    int64         \n",
        " - datetime -   datetime64\n",
        " - weight -      int64         \n",
        " - watched_pct - float64    \n"
      ]
    },
    {
      "cell_type": "code",
      "execution_count": 92,
      "id": "1e36493a-5da4-4cd6-b8d7-cb2652d683ba",
      "metadata": {
        "deletable": false,
        "id": "1e36493a-5da4-4cd6-b8d7-cb2652d683ba",
        "nbgrader": {
          "cell_type": "code",
          "checksum": "fbe64c9bb32393d2030b17b8758d3e30",
          "grade": false,
          "grade_id": "cell-d6819c2c430a8e75",
          "locked": false,
          "schema_version": 3,
          "solution": true,
          "task": false
        }
      },
      "outputs": [],
      "source": [
        "max_date = interactions['datetime'].max()\n",
        "cutoff_date = max_date - pd.Timedelta(days=14)\n",
        "\n",
        "test = interactions[interactions['datetime'] > cutoff_date].copy()\n",
        "test = test[['user_id', 'item_id', 'datetime', 'weight', 'watched_pct']]\n",
        "\n",
        "train = interactions[interactions['datetime'] <= cutoff_date].copy()\n",
        "train = train[['user_id', 'item_id', 'datetime', 'weight', 'watched_pct']]\n"
      ]
    },
    {
      "cell_type": "markdown",
      "id": "2925c9d4-1678-440a-abde-5403ec7fa557",
      "metadata": {
        "deletable": false,
        "editable": false,
        "id": "2925c9d4-1678-440a-abde-5403ec7fa557",
        "nbgrader": {
          "cell_type": "markdown",
          "checksum": "b7d660cf3c2bbd3a169c3c1e335c5e55",
          "grade": false,
          "grade_id": "cell-b375f544307c12a0",
          "locked": true,
          "schema_version": 3,
          "solution": false,
          "task": false
        }
      },
      "source": [
        "## Проверка:  тестовая выборка - 3 балла\n",
        "\n",
        "Внимание! Есть скрытые тесты"
      ]
    },
    {
      "cell_type": "code",
      "execution_count": 93,
      "id": "317056ee-8974-46ba-bbe2-d2f5a8f330e8",
      "metadata": {
        "deletable": false,
        "editable": false,
        "id": "317056ee-8974-46ba-bbe2-d2f5a8f330e8",
        "nbgrader": {
          "cell_type": "code",
          "checksum": "75fd3e3424bbb99aee2223df6a57bb02",
          "grade": true,
          "grade_id": "cell-d4177ea915281721",
          "locked": true,
          "points": 3,
          "schema_version": 3,
          "solution": false,
          "task": false
        }
      },
      "outputs": [],
      "source": [
        "assert isinstance(test, pd.DataFrame)\n",
        "assert test.datetime.nunique() == 14\n",
        "\n",
        "expected_mean = 6887.2\n",
        "actual_mean = round(test['weight'].mean(), 1)\n",
        "assert abs(actual_mean - expected_mean) < 0.001\n"
      ]
    },
    {
      "cell_type": "markdown",
      "id": "39d737c4-2f0c-45f0-ae0e-2ed1d37ba113",
      "metadata": {
        "deletable": false,
        "editable": false,
        "id": "39d737c4-2f0c-45f0-ae0e-2ed1d37ba113",
        "nbgrader": {
          "cell_type": "markdown",
          "checksum": "7a0dae0d42bbe8ac9079ce863868e6e9",
          "grade": false,
          "grade_id": "cell-305dab6e173e62b4",
          "locked": true,
          "schema_version": 3,
          "solution": false,
          "task": false
        }
      },
      "source": [
        "# Код модели\n",
        "\n",
        "Допишите методы `fit_cold_model` и  `recommend_cold`, которые делают рекомендации холодным пользователям (сейчас модель этого не умеет)"
      ]
    },
    {
      "cell_type": "code",
      "execution_count": 94,
      "id": "7aee4dce-4e2d-410b-8997-6ae2d4de1e20",
      "metadata": {
        "deletable": false,
        "id": "7aee4dce-4e2d-410b-8997-6ae2d4de1e20",
        "nbgrader": {
          "cell_type": "code",
          "checksum": "27c3c7e15dfc4211b26fbffbf86a31cc",
          "grade": false,
          "grade_id": "cell-fc1beb2c90026cfd",
          "locked": false,
          "schema_version": 3,
          "solution": true,
          "task": false
        }
      },
      "outputs": [],
      "source": [
        "class UserKnn:\n",
        "    \"\"\"\n",
        "    A user-based KNN model wrapper around `implicit.nearest_neighbours.ItemItemRecommender`\n",
        "    \"\"\"\n",
        "\n",
        "    SIMILAR_USER_COLUMN = \"similar_user_id\"\n",
        "    SIMILARITY_COLUMN = \"similarity\"\n",
        "    IDF_COLUMN = \"idf\"\n",
        "\n",
        "    def __init__(self, model: ItemItemRecommender, N_similar_users: int):\n",
        "        self.model = model\n",
        "        self.N_similar_users = N_similar_users\n",
        "\n",
        "        self.users_inv_mapping = None\n",
        "        self.users_mapping = None\n",
        "        self.items_inv_mapping = None\n",
        "        self.items_mapping = None\n",
        "\n",
        "        self.watched_items_dataframe = None\n",
        "        self.item_idf = None\n",
        "        self.cold_model_fitted = False\n",
        "\n",
        "    def _set_mappings(self, interactions: pd.DataFrame) -> None:\n",
        "        \"\"\"\n",
        "        Create dictionaries to map external IDs (users, items) to internal IDs and vice versa.\n",
        "        \"\"\"\n",
        "        unique_users = interactions[Columns.User].unique()\n",
        "        self.users_inv_mapping = dict(enumerate(unique_users))\n",
        "        self.users_mapping = {v: k for k, v in self.users_inv_mapping.items()}\n",
        "\n",
        "        unique_items = interactions[Columns.Item].unique()\n",
        "        self.items_inv_mapping = dict(enumerate(unique_items))\n",
        "        self.items_mapping = {v: k for k, v in self.items_inv_mapping.items()}\n",
        "\n",
        "    def _get_user_item_matrix(self, interactions: pd.DataFrame) -> spmatrix:\n",
        "        \"\"\"\n",
        "        Construct a sparse user-item matrix in CSR format.\n",
        "        Rows represent users, and columns represent items.\n",
        "        \"\"\"\n",
        "        user_idx = interactions[Columns.User].map(self.users_mapping.get)\n",
        "        item_idx = interactions[Columns.Item].map(self.items_mapping.get)\n",
        "        data = interactions[Columns.Weight].astype(np.float64)\n",
        "\n",
        "        user_item_coo = coo_matrix((data, (user_idx, item_idx)))\n",
        "        return user_item_coo.tocsr()\n",
        "\n",
        "    def _set_interacted_items_dataframe(self, interactions: pd.DataFrame) -> None:\n",
        "        \"\"\"\n",
        "        Groups interactions by user to get item_id list for each user\n",
        "        \"\"\"\n",
        "        self.interacted_items_dataframe = (\n",
        "            interactions.groupby(Columns.User, as_index=False)\n",
        "            .agg({Columns.Item: list})\n",
        "            .rename(columns={Columns.User: self.SIMILAR_USER_COLUMN})\n",
        "        )\n",
        "\n",
        "    @staticmethod\n",
        "    def idf(n: int, x: float):\n",
        "        \"\"\"\n",
        "        Calculates IDF for one item\n",
        "        \"\"\"\n",
        "        return np.log((1 + n) / (1 + x) + 1)\n",
        "\n",
        "    def _count_item_idf(self, interactions: pd.DataFrame) -> None:\n",
        "        \"\"\"\n",
        "        Calculate IDF values for all items present in the interactions dataset\n",
        "         and store the result in self.item_idf.\n",
        "        \"\"\"\n",
        "        item_freqs = Counter(interactions[Columns.Item].values)\n",
        "        item_idf_df = (\n",
        "            pd.DataFrame\n",
        "            .from_dict(item_freqs, orient=\"index\", columns=[\"doc_freq\"])\n",
        "            .reset_index()\n",
        "        )\n",
        "        total_interactions = len(interactions)\n",
        "        item_idf_df[self.IDF_COLUMN] = item_idf_df[\"doc_freq\"].apply(\n",
        "            lambda x: self.idf(total_interactions, x)\n",
        "        )\n",
        "        self.item_idf = item_idf_df\n",
        "\n",
        "    def _prepare_for_model(self, train_interactions: pd.DataFrame) -> None:\n",
        "        \"\"\"\n",
        "        Sets mappings, grouped interactions, calculates idf\n",
        "        \"\"\"\n",
        "        self._set_mappings(train_interactions)\n",
        "        self._set_interacted_items_dataframe(train_interactions)\n",
        "        self._count_item_idf(train_interactions)\n",
        "\n",
        "    def fit_cold_model(self, train_interactions: pd.DataFrame) -> None:\n",
        "        \"\"\"\n",
        "        Fit a model for cold recommendations.\n",
        "\n",
        "        Parameters:\n",
        "        train_interactions (pd.DataFrame): interaction data used to train the model.\n",
        "        \"\"\"\n",
        "        self.cold_items = (\n",
        "          train_interactions[Columns.Item]\n",
        "          .value_counts()\n",
        "          .head(1000)\n",
        "          .index.tolist()\n",
        "        )\n",
        "        self.cold_model_fitted = True\n",
        "\n",
        "    def recommend_cold(self, users: Union[list, np.array],\n",
        "                        k: int = 100) -> pd.DataFrame:\n",
        "        \"\"\"\n",
        "        Return recommendations for the given cold users.\n",
        "        Can be called separately or within the class. Supports both list and numpy array as input.\n",
        "\n",
        "        Parameters:\n",
        "        users (list | np.array): List or array of users for whom recommendations will be generated.\n",
        "        k (int, optional): Number of recommendations to generate per user. Default is 100.\n",
        "\n",
        "        Returns:\n",
        "        pd.DataFrame: A dataframe containing user-item recommendations.\n",
        "        \"\"\"\n",
        "\n",
        "        all_recs = []\n",
        "        for user in users:\n",
        "            recs = pd.DataFrame({\n",
        "                Columns.User: [user] * min(k, len(self.cold_items)),\n",
        "                Columns.Item: self.cold_items[:k],\n",
        "                Columns.Score: np.arange(k, 0, -1),\n",
        "            })\n",
        "            all_recs.append(recs)\n",
        "\n",
        "        return pd.concat(all_recs).reset_index(drop=True)\n",
        "\n",
        "    def fit(self, train_interactions: pd.DataFrame) -> None:\n",
        "        \"\"\"\n",
        "        Fit the model on the provided training data.\n",
        "\n",
        "        Internally:\n",
        "        1) Prepare mappings, watchlist DataFrame, and item IDF.\n",
        "        2) Create a user-item matrix and fit the underlying Implicit model.\n",
        "        \"\"\"\n",
        "        self._prepare_for_model(train_interactions)\n",
        "        user_item_matrix = self._get_user_item_matrix(train_interactions)\n",
        "        self.model.fit(user_item_matrix.T)\n",
        "\n",
        "\n",
        "    def _get_similar_users(self, external_user_id: int) -> tuple[list[int], list[float]]:\n",
        "        \"\"\"\n",
        "        Retrieve a list of similar users and corresponding similarities\n",
        "        from the underlying Implicit model.\n",
        "        \"\"\"\n",
        "        if external_user_id not in self.users_mapping:\n",
        "            # if user doesn't exist in mapping, return sentinel (-1).\n",
        "            return [-1], [-1]\n",
        "\n",
        "        internal_user_id = self.users_mapping[external_user_id]\n",
        "        user_ids, similarities = self.model.similar_items(\n",
        "            internal_user_id,\n",
        "            N=self.N_similar_users\n",
        "        )\n",
        "        # convert back to external IDs\n",
        "        external_user_ids = [self.users_inv_mapping[u_id] for u_id in user_ids]\n",
        "        return external_user_ids, similarities\n",
        "\n",
        "    @staticmethod\n",
        "    def get_rank(recs: pd.DataFrame, k: int) -> pd.DataFrame:\n",
        "        \"\"\"\n",
        "        Sort recommendations by score in descending order,\n",
        "        assign ranks within each user group, and then truncate by top-k.\n",
        "        \"\"\"\n",
        "        recs = recs.sort_values([Columns.User, Columns.Score], ascending=False)\n",
        "        recs = recs.drop_duplicates([Columns.User, Columns.Item])\n",
        "        recs[Columns.Rank] = recs.groupby(Columns.User).cumcount() + 1\n",
        "        recs = recs[recs[Columns.Rank] <= k][\n",
        "            [Columns.User, Columns.Item, Columns.Score, Columns.Rank]\n",
        "        ]\n",
        "\n",
        "        return recs\n",
        "\n",
        "\n",
        "\n",
        "    def recommend(self, users: np.ndarray, k: int) -> pd.DataFrame:\n",
        "        \"\"\"\n",
        "        Generate top-k recommendations for the specified list of users.\n",
        "\n",
        "        Steps:\n",
        "        1) Find similar users for each target user.\n",
        "        2) Join watched items from these similar users.\n",
        "        3) Compute a final score as similarity * IDF.\n",
        "        4) Return top-k items per user.\n",
        "        \"\"\"\n",
        "\n",
        "        recs = pd.DataFrame({Columns.User: users}) # создаем датафрейм из списка юзерайди, которое передали\n",
        "        recs[self.SIMILAR_USER_COLUMN], recs[self.SIMILARITY_COLUMN] = zip(\n",
        "            *recs[Columns.User].map(lambda user_id: self._get_similar_users(user_id))\n",
        "        ) # смотрим на похожих юзеров + на их силу близости\n",
        "        recs = recs.set_index(Columns.User).apply(pd.Series.explode).reset_index()\n",
        "\n",
        "        recs = (\n",
        "            recs[~(recs[Columns.User] == recs[self.SIMILAR_USER_COLUMN])]\n",
        "            .merge(\n",
        "                self.interacted_items_dataframe,\n",
        "                on=[self.SIMILAR_USER_COLUMN],\n",
        "                how=\"left\",\n",
        "            )\n",
        "            .explode(Columns.Item)\n",
        "            .sort_values([Columns.User, self.SIMILARITY_COLUMN], ascending=False)\n",
        "            .drop_duplicates([Columns.User, Columns.Item], keep=\"first\")\n",
        "            .merge(self.item_idf, left_on=Columns.Item, right_on=\"index\", how=\"left\")\n",
        "        )\n",
        "\n",
        "        recs[Columns.Score] = recs[self.SIMILARITY_COLUMN] * recs[self.IDF_COLUMN]\n",
        "        recs = recs[[Columns.User, Columns.Item, Columns.Score]]\n",
        "\n",
        "        recs = self.get_rank(recs, k=k)\n",
        "\n",
        "        if self.cold_model_fitted:\n",
        "            input_users = pd.DataFrame({Columns.User: users})\n",
        "            user_counts = recs.groupby(Columns.User)[Columns.Item].count().reset_index(name='count')\n",
        "            user_counts = input_users.merge(user_counts, on=Columns.User, how='left').fillna(0)\n",
        "            users_to_fill = user_counts[user_counts['count'] < k][Columns.User].tolist()\n",
        "\n",
        "            if users_to_fill:\n",
        "                cold_recs = self.recommend_cold(users=users_to_fill, k=k)\n",
        "                existing_pairs = set(recs.apply(lambda row: (row[Columns.User], row[Columns.Item]), axis=1))\n",
        "                cold_recs['pair'] = cold_recs.apply(lambda row: (row[Columns.User], row[Columns.Item]), axis=1)\n",
        "                cold_recs_filtered = cold_recs[~cold_recs['pair'].isin(existing_pairs)].drop(columns='pair')\n",
        "\n",
        "                if not cold_recs_filtered.empty:\n",
        "                    min_score = recs[Columns.Score].min() if not recs.empty else 0\n",
        "                    cold_score = min_score - 1.0 if not recs.empty else 0.0\n",
        "                    cold_recs_filtered[Columns.Score] = cold_score\n",
        "\n",
        "                    combined_recs = pd.concat([recs, cold_recs_filtered], ignore_index=True)\n",
        "                    combined_recs = combined_recs.sort_values(\n",
        "                        by=[Columns.User, Columns.Score],\n",
        "                        ascending=[True, False]\n",
        "                    )\n",
        "                    combined_recs = combined_recs.drop_duplicates(\n",
        "                        subset=[Columns.User, Columns.Item],\n",
        "                        keep='first'\n",
        "                    )\n",
        "                    recs = self.get_rank(combined_recs, k=k)\n",
        "\n",
        "        return recs\n"
      ]
    },
    {
      "cell_type": "markdown",
      "id": "0c1d67d2-3250-4eef-82b4-0b99ab704fc2",
      "metadata": {
        "deletable": false,
        "editable": false,
        "id": "0c1d67d2-3250-4eef-82b4-0b99ab704fc2",
        "nbgrader": {
          "cell_type": "markdown",
          "checksum": "571d4eedb09c06b043dfd57ad1ff7679",
          "grade": false,
          "grade_id": "cell-a166ec0fd3451e8e",
          "locked": true,
          "schema_version": 3,
          "solution": false,
          "task": false
        }
      },
      "source": [
        "# Рекомендации для холодных пользователей\n",
        "\n",
        "Используйте метод класса UseKnn, который выдает рекомендации холодным пользователям.\n",
        "\n",
        "### Порекомендуйте k=10 уникальных айтемов для каждого холодного пользователя из тестовой выборки. Сохраните рекомендации в pandas DataFrame и назовите его `reco_cold`.\n",
        "\n",
        "Датафрейм `reco_cold` должен иметь обязательные поля `user_id`, `item_id`, `rank`.\n",
        "\n",
        "⚠️ Холодными считаем пользователей, у которых нет интеракций в train.\n"
      ]
    },
    {
      "cell_type": "code",
      "execution_count": 95,
      "id": "d5ec40d2-4492-457e-979a-216f0f8eca56",
      "metadata": {
        "deletable": false,
        "id": "d5ec40d2-4492-457e-979a-216f0f8eca56",
        "nbgrader": {
          "cell_type": "code",
          "checksum": "d45b9a8f5c9d3cdbe90e068d4a77823d",
          "grade": false,
          "grade_id": "cell-17c883b2dac9bb3d",
          "locked": false,
          "schema_version": 3,
          "solution": true,
          "task": false
        }
      },
      "outputs": [],
      "source": [
        "test_users = test['user_id'].unique()\n",
        "train_users = train['user_id'].unique()\n",
        "cold_users = [user for user in test_users if user not in train_users]\n",
        "\n",
        "user_knn = UserKnn(model=ItemItemRecommender(K=10), N_similar_users=10)\n",
        "\n",
        "train_interactions = interactions[interactions['datetime'] <= cutoff_date]\n",
        "user_knn.fit_cold_model(train_interactions)\n",
        "\n",
        "reco_cold = user_knn.recommend_cold(cold_users, k=10)\n",
        "reco_cold = reco_cold.sort_values(['user_id', 'score'], ascending=[True, False])\n",
        "reco_cold['rank'] = reco_cold.groupby('user_id').cumcount() + 1\n",
        "reco_cold = reco_cold[['user_id', 'item_id', 'rank']]\n",
        "reco_cold.columns = ['user_id', 'item_id', 'rank']"
      ]
    },
    {
      "cell_type": "markdown",
      "id": "cbbf2398-ca7e-4ddc-81a8-e544bb7a514a",
      "metadata": {
        "deletable": false,
        "editable": false,
        "id": "cbbf2398-ca7e-4ddc-81a8-e544bb7a514a",
        "nbgrader": {
          "cell_type": "markdown",
          "checksum": "7840aac9f44f1dffa64d84cde851e3ca",
          "grade": false,
          "grade_id": "cell-7715e1c14df33d58",
          "locked": true,
          "schema_version": 3,
          "solution": false,
          "task": false
        }
      },
      "source": [
        "## Проверка рекомендаций по холодным пользователям - 4 балла\n",
        "\n",
        "Внимание! Есть скрытые тесты"
      ]
    },
    {
      "cell_type": "code",
      "execution_count": 96,
      "id": "ea15f061-9a08-48f0-ad5d-8e05b39df162",
      "metadata": {
        "deletable": false,
        "editable": false,
        "id": "ea15f061-9a08-48f0-ad5d-8e05b39df162",
        "nbgrader": {
          "cell_type": "code",
          "checksum": "628f15551565fe1047df4219760cb95d",
          "grade": true,
          "grade_id": "cell-e5bf7a9e20d1865a",
          "locked": true,
          "points": 2,
          "schema_version": 3,
          "solution": false,
          "task": false
        }
      },
      "outputs": [],
      "source": [
        "# проверка правильности формирования холодных рекомендаций - 2 балл\n",
        "\n",
        "assert isinstance(reco_cold, pd.DataFrame)\n",
        "\n",
        "expected_columns = {'user_id', 'item_id', 'rank'}\n",
        "assert expected_columns.issubset(set(reco_cold.columns))\n",
        "\n",
        "assert reco_cold.user_id.nunique() == 111690\n",
        "\n",
        "assert (reco_cold.groupby('user_id')['item_id'].nunique() == 10).all(), \\\n",
        "    \"Ошибка: у каждого user_id должно быть ровно 10 уникальных item_id\"\n"
      ]
    },
    {
      "cell_type": "code",
      "execution_count": 97,
      "id": "12b67784-3415-4cc8-87d4-7f8ad86abc1f",
      "metadata": {
        "deletable": false,
        "editable": false,
        "id": "12b67784-3415-4cc8-87d4-7f8ad86abc1f",
        "nbgrader": {
          "cell_type": "code",
          "checksum": "0462da5fc787dd59c9be2bbcc2af5be0",
          "grade": true,
          "grade_id": "cell-4c0fc9cecc555068",
          "locked": true,
          "points": 2,
          "schema_version": 3,
          "solution": false,
          "task": false
        }
      },
      "outputs": [],
      "source": [
        "# проверка метрик качества холодных рекомендаций на полном test - 2 балла\n",
        "assert (MAP(k=10).calc(reco_cold, test) >= 0.04\n",
        "    and MAP(k=10).calc(reco_cold, test) < 0.98)\n"
      ]
    },
    {
      "cell_type": "markdown",
      "id": "485d41a9-c3a6-441a-ae33-50bd7e615fb5",
      "metadata": {
        "deletable": false,
        "editable": false,
        "id": "485d41a9-c3a6-441a-ae33-50bd7e615fb5",
        "nbgrader": {
          "cell_type": "markdown",
          "checksum": "8974255dfc6b829dc5970504728ae8ab",
          "grade": false,
          "grade_id": "cell-f826c221b0cbbfac",
          "locked": true,
          "schema_version": 3,
          "solution": false,
          "task": false
        }
      },
      "source": [
        "# Рекомендации для горячих пользователей\n",
        "\n",
        "Допишите метод `recommend` класса UseKnn так, чтобы он выдавал ровно k рекомендаций (сейчас он выдает некоторым пользователям меньше k, особенность implicit knn модели)\n",
        "\n",
        "### Порекомендуйте k=10 уникальных айтемов для каждого горячего пользователя из тестовой выборки. Сохраните рекомендации в pandas DataFrame и назовите его `reco_hot`\n",
        "\n",
        "датафрейм `reco_hot` ддолжен иметь обязательные поля `user_id`, `item_id`, `rank`.\n",
        "\n",
        "⚠️ горячими считаем пользователей, у которых ЕСТЬ любое количество интеракции в train."
      ]
    },
    {
      "cell_type": "markdown",
      "id": "a9b5c1a6-f0de-4654-aa0e-6dc4ef47eb6e",
      "metadata": {
        "deletable": false,
        "editable": false,
        "id": "a9b5c1a6-f0de-4654-aa0e-6dc4ef47eb6e",
        "nbgrader": {
          "cell_type": "markdown",
          "checksum": "66c4d4f63623ffea5d821b1f6de3e7dd",
          "grade": false,
          "grade_id": "cell-9da215470ae745ce",
          "locked": true,
          "schema_version": 3,
          "solution": false,
          "task": false
        }
      },
      "source": [
        "## Hack в помощь\n",
        "\n",
        "Дело к близится к вечеру, продакт менеджер торопит Вас.\n",
        "\n",
        "А код userknn фитится долго, потому что кто-то запихнул в него весь train с over 900 тыс пользователей.\n",
        "\n",
        "Вы решаете аккуратно уменьшить трейн\n",
        "\n",
        "- `возьмите только последние 30 дней датасета в трейн`\n"
      ]
    },
    {
      "cell_type": "code",
      "execution_count": 98,
      "id": "pDRDNkGZIlzE",
      "metadata": {
        "id": "pDRDNkGZIlzE"
      },
      "outputs": [],
      "source": [
        "max_date = train['datetime'].max()\n",
        "cutoff_date = max_date - pd.Timedelta(days=31)\n",
        "\n",
        "train30 = train[train['datetime'] > cutoff_date].copy()"
      ]
    },
    {
      "cell_type": "code",
      "execution_count": 99,
      "id": "05K88kbT_eTQ",
      "metadata": {
        "id": "05K88kbT_eTQ"
      },
      "outputs": [],
      "source": [
        "test_users = test['user_id'].unique()\n",
        "train_users = train30['user_id'].unique()\n",
        "\n",
        "hot_users = [user for user in test_users if user in train_users]"
      ]
    },
    {
      "cell_type": "code",
      "execution_count": 100,
      "id": "TfD3NE3GAb61",
      "metadata": {
        "colab": {
          "base_uri": "https://localhost:8080/",
          "height": 105,
          "referenced_widgets": [
            "b2845c24e92344bab6ca5aebc895ac4c",
            "1e6e25bb4cf04934b3feba82cc03deb9",
            "f5c9d23a65d945908c59c9a9020aeacd",
            "0410589c378a4a0eaf194935d549da2e",
            "3bdf5f80260a4613bc9deb82d983ff15",
            "4fd8107f941a440082d2bb0426cc4ee6",
            "3b2e60f06818412fa828e5b4f33c238f",
            "a2c5bde19a5b4dc9abc98568ec2e1d69",
            "a1dea74073684fd6b1448b4a46b3c187",
            "269d13c5f8b4413596df5589c2a0388d",
            "194a26bfaf03413a85232392a9659194"
          ]
        },
        "id": "TfD3NE3GAb61",
        "outputId": "46f76000-9488-4107-9318-27fc03ac8dfe"
      },
      "outputs": [
        {
          "name": "stderr",
          "output_type": "stream",
          "text": [
            "/usr/local/lib/python3.11/dist-packages/implicit/utils.py:164: ParameterWarning: Method expects CSR input, and was passed csc_matrix instead. Converting to CSR took 0.02211475372314453 seconds\n",
            "  warnings.warn(\n"
          ]
        },
        {
          "data": {
            "application/vnd.jupyter.widget-view+json": {
              "model_id": "b2845c24e92344bab6ca5aebc895ac4c",
              "version_major": 2,
              "version_minor": 0
            },
            "text/plain": [
              "  0%|          | 0/398800 [00:00<?, ?it/s]"
            ]
          },
          "metadata": {},
          "output_type": "display_data"
        }
      ],
      "source": [
        "user_knn = UserKnn(model=ItemItemRecommender(K=10), N_similar_users=10)\n",
        "user_knn.fit_cold_model(train30)\n",
        "user_knn.fit(train30)"
      ]
    },
    {
      "cell_type": "code",
      "execution_count": 101,
      "id": "DlxINf1iAgwR",
      "metadata": {
        "id": "DlxINf1iAgwR"
      },
      "outputs": [],
      "source": [
        "reco_hot = user_knn.recommend(hot_users, k=10)\n",
        "reco_hot = reco_hot.sort_values(['user_id', 'score'], ascending=[True, False])\n",
        "reco_hot['rank'] = reco_hot.groupby('user_id').cumcount() + 1\n",
        "reco_hot = reco_hot[['user_id', 'item_id', 'rank']]\n",
        "reco_hot.columns = ['user_id', 'item_id', 'rank']"
      ]
    },
    {
      "cell_type": "markdown",
      "id": "fca48b63-820d-4e2e-b1f2-fd5ed3c3b7a7",
      "metadata": {
        "deletable": false,
        "editable": false,
        "id": "fca48b63-820d-4e2e-b1f2-fd5ed3c3b7a7",
        "nbgrader": {
          "cell_type": "markdown",
          "checksum": "ead713e722204726f8b0279474a394f2",
          "grade": false,
          "grade_id": "cell-0b479a71153fc48a",
          "locked": true,
          "schema_version": 3,
          "solution": false,
          "task": false
        }
      },
      "source": [
        "Обучите модель, сделайте рекомендации `reco_hot`"
      ]
    },
    {
      "cell_type": "markdown",
      "id": "bd2e6480-5430-4a1e-9eae-56e68cf56522",
      "metadata": {
        "deletable": false,
        "editable": false,
        "id": "bd2e6480-5430-4a1e-9eae-56e68cf56522",
        "nbgrader": {
          "cell_type": "markdown",
          "checksum": "cc5bb5fd49c45a0175acb30a696d3199",
          "grade": false,
          "grade_id": "cell-8785fd65a997d897",
          "locked": true,
          "schema_version": 3,
          "solution": false,
          "task": false
        }
      },
      "source": [
        "## Проверка рекомендаций по горячим пользователям - 8 баллов\n",
        "\n",
        "Внимание! Есть скрытые тесты"
      ]
    },
    {
      "cell_type": "code",
      "execution_count": 102,
      "id": "d31b0bf5-cf6e-4bf7-b19f-c8d3fc92f7aa",
      "metadata": {
        "deletable": false,
        "editable": false,
        "id": "d31b0bf5-cf6e-4bf7-b19f-c8d3fc92f7aa",
        "nbgrader": {
          "cell_type": "code",
          "checksum": "79c8d1061f36fcf36fa740c49b670f88",
          "grade": true,
          "grade_id": "cell-8c1fb777f3ad7af5",
          "locked": true,
          "points": 3,
          "schema_version": 3,
          "solution": false,
          "task": false
        }
      },
      "outputs": [],
      "source": [
        "# проверки на правильность формирования reco_hot - 3 балла за все проверки в ячейке\n",
        "\n",
        "assert isinstance(reco_hot, pd.DataFrame)\n",
        "\n",
        "expected_columns = {'user_id', 'item_id', 'rank'}\n",
        "assert expected_columns.issubset(set(reco_hot.columns))\n",
        "\n",
        "assert reco_hot.user_id.nunique() == 128070\n"
      ]
    },
    {
      "cell_type": "code",
      "execution_count": 103,
      "id": "579efc4d-9c3e-4e6b-89c2-0301b8fcc3f4",
      "metadata": {
        "deletable": false,
        "editable": false,
        "id": "579efc4d-9c3e-4e6b-89c2-0301b8fcc3f4",
        "nbgrader": {
          "cell_type": "code",
          "checksum": "f02c295338bf5598ee49b071e7449f1e",
          "grade": true,
          "grade_id": "cell-68ad1626e291a863",
          "locked": true,
          "points": 5,
          "schema_version": 3,
          "solution": false,
          "task": false
        }
      },
      "outputs": [],
      "source": [
        "# проверки на метрики - 5 баллов за все проверки в ячейке\n",
        "\n",
        "assert (reco_hot.groupby('user_id')['item_id'].nunique() == 10).all(), \\\n",
        "    \"Ошибка: у каждого user_id должно быть ровно 10 уникальных item_id\"\n",
        "\n",
        "assert (MAP(k=10).calc(reco_hot, test) <= 0.04\n",
        "    and MeanInvUserFreq(k=10).calc(reco_hot, test) > 7.)\n"
      ]
    },
    {
      "cell_type": "markdown",
      "id": "91cd9a1a-f9f8-482b-b938-134e0f7db092",
      "metadata": {
        "deletable": false,
        "editable": false,
        "id": "91cd9a1a-f9f8-482b-b938-134e0f7db092",
        "nbgrader": {
          "cell_type": "markdown",
          "checksum": "8427adf2721d692c632e0cb5e7e2a10f",
          "grade": false,
          "grade_id": "cell-0feb2f8cb349b80c",
          "locked": true,
          "schema_version": 3,
          "solution": false,
          "task": false
        }
      },
      "source": [
        "# Как сдать ноутбук `knn.ipynb` на проверку\n",
        "\n",
        "⚠️ Важное замечание: чтобы ваш ноутбук смог пройти проверку, скопируйте код класса `UserKnn` из `userknn.py` в этот ноутбук. Мы не можем гарантировать, что импорты из py файла будут работать.\n",
        "\n",
        "1. Прогоните весь код ноутбука - проверьте, что нет ошибок и тесты проходят\n",
        "2. Выложите готовый ноутбук в ваш репозиторий с сервисом из домашнего задания №1 по пути `notebooks/hw_3/knn.ipynb` в ветке `hw_3`\n",
        "\n",
        "3. Проверьте, что есть доступ к вашему репозиторию для аккаунтов `https://github.com/feldlime`\n",
        "\n",
        "5. Откройте PR в main ветку и добавьте в ревьюеры **своего ментора**\n",
        "\n",
        "6. Не проводите мердж в `main` ветку, пока не увидите оценку за это ДЗ в ведомости. Файл с ноутбуком должен находиться в ветке `hw_3`\n",
        "\n",
        "Обратите внимание, что сборка ноутбуков на проверку автоматизирована. В случае неправильного пути, имени файла или ветки (а также при отсутствии доступа у `@feldlime`) ваша работа не попадёт на проверку и получит `0` баллов."
      ]
    },
    {
      "cell_type": "markdown",
      "id": "4087cd8c-893e-48e9-9941-ad7dc6d300d2",
      "metadata": {
        "deletable": false,
        "editable": false,
        "id": "4087cd8c-893e-48e9-9941-ad7dc6d300d2",
        "nbgrader": {
          "cell_type": "markdown",
          "checksum": "210c02b840d043fab85e47b1b42d2c8a",
          "grade": false,
          "grade_id": "cell-edd8978b30775861",
          "locked": true,
          "schema_version": 3,
          "solution": false,
          "task": false
        }
      },
      "source": [
        "# Баллы по ДЗ №3: максимум 25 баллов\n",
        "\n",
        "1. прохождение проверки кода в ноутбуке `knn.ipynb` - **15 баллов**\n",
        "2. обернуть модель UserKnn в сервис и побить безлайн `map@10 = 0.063` на лидерборде. Оценивается только лидерборд, без код ревью - **10 баллов**\n",
        "\n",
        "## Комментарии  \n",
        "\n",
        "- Вы можете переспользовать в своем сервисе код из `userknn.py`, который использован в ноутбуке `knn.ipynb`\n",
        "\n",
        "Как реализовать модель в сервисе:\n",
        "\n",
        "- онлайн вариант: обучаете модель, сохраняете обученную модель (pickle, dill), при запуске сервиса ее поднимаете и запрашиваете рекомендации \"на лету\"\n",
        "- оффлайн вариант: предварительно посчитайте рекомендации для всех пользователей, сохраните и запрашивайте их\n",
        "- в приватном тесте лидерборда есть как холодные, так и горячие пользователи"
      ]
    },
    {
      "cell_type": "code",
      "execution_count": null,
      "id": "f73be4de-80e8-48ad-a044-eb23cde90571",
      "metadata": {
        "id": "f73be4de-80e8-48ad-a044-eb23cde90571"
      },
      "outputs": [],
      "source": []
    }
  ],
  "metadata": {
    "colab": {
      "provenance": []
    },
    "kernelspec": {
      "display_name": "dl_env",
      "language": "python",
      "name": "python3"
    },
    "language_info": {
      "codemirror_mode": {
        "name": "ipython",
        "version": 3
      },
      "file_extension": ".py",
      "mimetype": "text/x-python",
      "name": "python",
      "nbconvert_exporter": "python",
      "pygments_lexer": "ipython3",
      "version": "3.12.7"
    },
    "widgets": {
      "application/vnd.jupyter.widget-state+json": {
        "0410589c378a4a0eaf194935d549da2e": {
          "model_module": "@jupyter-widgets/controls",
          "model_module_version": "1.5.0",
          "model_name": "HTMLModel",
          "state": {
            "_dom_classes": [],
            "_model_module": "@jupyter-widgets/controls",
            "_model_module_version": "1.5.0",
            "_model_name": "HTMLModel",
            "_view_count": null,
            "_view_module": "@jupyter-widgets/controls",
            "_view_module_version": "1.5.0",
            "_view_name": "HTMLView",
            "description": "",
            "description_tooltip": null,
            "layout": "IPY_MODEL_269d13c5f8b4413596df5589c2a0388d",
            "placeholder": "​",
            "style": "IPY_MODEL_194a26bfaf03413a85232392a9659194",
            "value": " 398800/398800 [03:08&lt;00:00, 4649.83it/s]"
          }
        },
        "194a26bfaf03413a85232392a9659194": {
          "model_module": "@jupyter-widgets/controls",
          "model_module_version": "1.5.0",
          "model_name": "DescriptionStyleModel",
          "state": {
            "_model_module": "@jupyter-widgets/controls",
            "_model_module_version": "1.5.0",
            "_model_name": "DescriptionStyleModel",
            "_view_count": null,
            "_view_module": "@jupyter-widgets/base",
            "_view_module_version": "1.2.0",
            "_view_name": "StyleView",
            "description_width": ""
          }
        },
        "1e6e25bb4cf04934b3feba82cc03deb9": {
          "model_module": "@jupyter-widgets/controls",
          "model_module_version": "1.5.0",
          "model_name": "HTMLModel",
          "state": {
            "_dom_classes": [],
            "_model_module": "@jupyter-widgets/controls",
            "_model_module_version": "1.5.0",
            "_model_name": "HTMLModel",
            "_view_count": null,
            "_view_module": "@jupyter-widgets/controls",
            "_view_module_version": "1.5.0",
            "_view_name": "HTMLView",
            "description": "",
            "description_tooltip": null,
            "layout": "IPY_MODEL_4fd8107f941a440082d2bb0426cc4ee6",
            "placeholder": "​",
            "style": "IPY_MODEL_3b2e60f06818412fa828e5b4f33c238f",
            "value": "100%"
          }
        },
        "269d13c5f8b4413596df5589c2a0388d": {
          "model_module": "@jupyter-widgets/base",
          "model_module_version": "1.2.0",
          "model_name": "LayoutModel",
          "state": {
            "_model_module": "@jupyter-widgets/base",
            "_model_module_version": "1.2.0",
            "_model_name": "LayoutModel",
            "_view_count": null,
            "_view_module": "@jupyter-widgets/base",
            "_view_module_version": "1.2.0",
            "_view_name": "LayoutView",
            "align_content": null,
            "align_items": null,
            "align_self": null,
            "border": null,
            "bottom": null,
            "display": null,
            "flex": null,
            "flex_flow": null,
            "grid_area": null,
            "grid_auto_columns": null,
            "grid_auto_flow": null,
            "grid_auto_rows": null,
            "grid_column": null,
            "grid_gap": null,
            "grid_row": null,
            "grid_template_areas": null,
            "grid_template_columns": null,
            "grid_template_rows": null,
            "height": null,
            "justify_content": null,
            "justify_items": null,
            "left": null,
            "margin": null,
            "max_height": null,
            "max_width": null,
            "min_height": null,
            "min_width": null,
            "object_fit": null,
            "object_position": null,
            "order": null,
            "overflow": null,
            "overflow_x": null,
            "overflow_y": null,
            "padding": null,
            "right": null,
            "top": null,
            "visibility": null,
            "width": null
          }
        },
        "3b2e60f06818412fa828e5b4f33c238f": {
          "model_module": "@jupyter-widgets/controls",
          "model_module_version": "1.5.0",
          "model_name": "DescriptionStyleModel",
          "state": {
            "_model_module": "@jupyter-widgets/controls",
            "_model_module_version": "1.5.0",
            "_model_name": "DescriptionStyleModel",
            "_view_count": null,
            "_view_module": "@jupyter-widgets/base",
            "_view_module_version": "1.2.0",
            "_view_name": "StyleView",
            "description_width": ""
          }
        },
        "3bdf5f80260a4613bc9deb82d983ff15": {
          "model_module": "@jupyter-widgets/base",
          "model_module_version": "1.2.0",
          "model_name": "LayoutModel",
          "state": {
            "_model_module": "@jupyter-widgets/base",
            "_model_module_version": "1.2.0",
            "_model_name": "LayoutModel",
            "_view_count": null,
            "_view_module": "@jupyter-widgets/base",
            "_view_module_version": "1.2.0",
            "_view_name": "LayoutView",
            "align_content": null,
            "align_items": null,
            "align_self": null,
            "border": null,
            "bottom": null,
            "display": null,
            "flex": null,
            "flex_flow": null,
            "grid_area": null,
            "grid_auto_columns": null,
            "grid_auto_flow": null,
            "grid_auto_rows": null,
            "grid_column": null,
            "grid_gap": null,
            "grid_row": null,
            "grid_template_areas": null,
            "grid_template_columns": null,
            "grid_template_rows": null,
            "height": null,
            "justify_content": null,
            "justify_items": null,
            "left": null,
            "margin": null,
            "max_height": null,
            "max_width": null,
            "min_height": null,
            "min_width": null,
            "object_fit": null,
            "object_position": null,
            "order": null,
            "overflow": null,
            "overflow_x": null,
            "overflow_y": null,
            "padding": null,
            "right": null,
            "top": null,
            "visibility": null,
            "width": null
          }
        },
        "4fd8107f941a440082d2bb0426cc4ee6": {
          "model_module": "@jupyter-widgets/base",
          "model_module_version": "1.2.0",
          "model_name": "LayoutModel",
          "state": {
            "_model_module": "@jupyter-widgets/base",
            "_model_module_version": "1.2.0",
            "_model_name": "LayoutModel",
            "_view_count": null,
            "_view_module": "@jupyter-widgets/base",
            "_view_module_version": "1.2.0",
            "_view_name": "LayoutView",
            "align_content": null,
            "align_items": null,
            "align_self": null,
            "border": null,
            "bottom": null,
            "display": null,
            "flex": null,
            "flex_flow": null,
            "grid_area": null,
            "grid_auto_columns": null,
            "grid_auto_flow": null,
            "grid_auto_rows": null,
            "grid_column": null,
            "grid_gap": null,
            "grid_row": null,
            "grid_template_areas": null,
            "grid_template_columns": null,
            "grid_template_rows": null,
            "height": null,
            "justify_content": null,
            "justify_items": null,
            "left": null,
            "margin": null,
            "max_height": null,
            "max_width": null,
            "min_height": null,
            "min_width": null,
            "object_fit": null,
            "object_position": null,
            "order": null,
            "overflow": null,
            "overflow_x": null,
            "overflow_y": null,
            "padding": null,
            "right": null,
            "top": null,
            "visibility": null,
            "width": null
          }
        },
        "a1dea74073684fd6b1448b4a46b3c187": {
          "model_module": "@jupyter-widgets/controls",
          "model_module_version": "1.5.0",
          "model_name": "ProgressStyleModel",
          "state": {
            "_model_module": "@jupyter-widgets/controls",
            "_model_module_version": "1.5.0",
            "_model_name": "ProgressStyleModel",
            "_view_count": null,
            "_view_module": "@jupyter-widgets/base",
            "_view_module_version": "1.2.0",
            "_view_name": "StyleView",
            "bar_color": null,
            "description_width": ""
          }
        },
        "a2c5bde19a5b4dc9abc98568ec2e1d69": {
          "model_module": "@jupyter-widgets/base",
          "model_module_version": "1.2.0",
          "model_name": "LayoutModel",
          "state": {
            "_model_module": "@jupyter-widgets/base",
            "_model_module_version": "1.2.0",
            "_model_name": "LayoutModel",
            "_view_count": null,
            "_view_module": "@jupyter-widgets/base",
            "_view_module_version": "1.2.0",
            "_view_name": "LayoutView",
            "align_content": null,
            "align_items": null,
            "align_self": null,
            "border": null,
            "bottom": null,
            "display": null,
            "flex": null,
            "flex_flow": null,
            "grid_area": null,
            "grid_auto_columns": null,
            "grid_auto_flow": null,
            "grid_auto_rows": null,
            "grid_column": null,
            "grid_gap": null,
            "grid_row": null,
            "grid_template_areas": null,
            "grid_template_columns": null,
            "grid_template_rows": null,
            "height": null,
            "justify_content": null,
            "justify_items": null,
            "left": null,
            "margin": null,
            "max_height": null,
            "max_width": null,
            "min_height": null,
            "min_width": null,
            "object_fit": null,
            "object_position": null,
            "order": null,
            "overflow": null,
            "overflow_x": null,
            "overflow_y": null,
            "padding": null,
            "right": null,
            "top": null,
            "visibility": null,
            "width": null
          }
        },
        "b2845c24e92344bab6ca5aebc895ac4c": {
          "model_module": "@jupyter-widgets/controls",
          "model_module_version": "1.5.0",
          "model_name": "HBoxModel",
          "state": {
            "_dom_classes": [],
            "_model_module": "@jupyter-widgets/controls",
            "_model_module_version": "1.5.0",
            "_model_name": "HBoxModel",
            "_view_count": null,
            "_view_module": "@jupyter-widgets/controls",
            "_view_module_version": "1.5.0",
            "_view_name": "HBoxView",
            "box_style": "",
            "children": [
              "IPY_MODEL_1e6e25bb4cf04934b3feba82cc03deb9",
              "IPY_MODEL_f5c9d23a65d945908c59c9a9020aeacd",
              "IPY_MODEL_0410589c378a4a0eaf194935d549da2e"
            ],
            "layout": "IPY_MODEL_3bdf5f80260a4613bc9deb82d983ff15"
          }
        },
        "f5c9d23a65d945908c59c9a9020aeacd": {
          "model_module": "@jupyter-widgets/controls",
          "model_module_version": "1.5.0",
          "model_name": "FloatProgressModel",
          "state": {
            "_dom_classes": [],
            "_model_module": "@jupyter-widgets/controls",
            "_model_module_version": "1.5.0",
            "_model_name": "FloatProgressModel",
            "_view_count": null,
            "_view_module": "@jupyter-widgets/controls",
            "_view_module_version": "1.5.0",
            "_view_name": "ProgressView",
            "bar_style": "success",
            "description": "",
            "description_tooltip": null,
            "layout": "IPY_MODEL_a2c5bde19a5b4dc9abc98568ec2e1d69",
            "max": 398800,
            "min": 0,
            "orientation": "horizontal",
            "style": "IPY_MODEL_a1dea74073684fd6b1448b4a46b3c187",
            "value": 398800
          }
        }
      }
    }
  },
  "nbformat": 4,
  "nbformat_minor": 5
}
